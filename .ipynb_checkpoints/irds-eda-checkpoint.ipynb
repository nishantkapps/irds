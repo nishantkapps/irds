{
 "cells": [
  {
   "cell_type": "code",
   "execution_count": null,
   "id": "47002258-a218-421f-9229-d350f2130b27",
   "metadata": {},
   "outputs": [],
   "source": [
    "import numpy as np\n",
    "import matplotlib.pyplot as plt\n",
    "import pandas as pd\n",
    "import os\n",
    "import glob\n",
    "import seaborn as sns"
   ]
  },
  {
   "cell_type": "code",
   "execution_count": 2,
   "id": "43a76919-b979-4f39-92ea-14d65479fb1e",
   "metadata": {},
   "outputs": [],
   "source": [
    "folder_path='./data'\n",
    "file_pattern = '*.txt'  # Or '*.csv', '*.json', etc."
   ]
  },
  {
   "cell_type": "code",
   "execution_count": 3,
   "id": "09a03af8-361e-4905-bcd2-a7e97d9a2ce5",
   "metadata": {},
   "outputs": [],
   "source": [
    "all_files = glob.glob(f\"{folder_path}/{file_pattern}\")"
   ]
  },
  {
   "cell_type": "code",
   "execution_count": 4,
   "id": "c245210d-af91-4125-a97a-3b3ea9444c36",
   "metadata": {},
   "outputs": [],
   "source": [
    "list_of_dfs = []\n",
    "for file_path in all_files:\n",
    "    file_path_parts = file_path.split('/')[2].split('_')\n",
    "    subject_id = file_path_parts[0]\n",
    "    date_id = file_path_parts[1]\n",
    "    gesture_label = file_path_parts[2]\n",
    "    rep_number = file_path_parts[3]\n",
    "    correct_label = file_path_parts[4]\n",
    "    position = file_path_parts[5].split('.')[0]\n",
    "    df = pd.read_csv(file_path, header=None)  # Adjust based on your file type\n",
    "    df['subject_id'] = subject_id\n",
    "    df['date_id'] = date_id\n",
    "    df['gesture_label'] = gesture_label   \n",
    "    df['rep_number'] = rep_number\n",
    "    df['correct_label'] = correct_label\n",
    "    df['position'] = position    \n",
    "    list_of_dfs.append(df)"
   ]
  },
  {
   "cell_type": "code",
   "execution_count": 9,
   "id": "ed1c8d7a-2fa5-4a59-aef9-a0a7a6b6285e",
   "metadata": {},
   "outputs": [],
   "source": [
    "cdf = pd.concat(list_of_dfs, ignore_index=True)"
   ]
  },
  {
   "cell_type": "code",
   "execution_count": 21,
   "id": "116d6f9e-bc83-4ffe-b491-4aeb7dbb28d9",
   "metadata": {},
   "outputs": [
    {
     "data": {
      "text/plain": [
       "gesture_label\n",
       "2    19.528605\n",
       "3    16.896553\n",
       "6    11.079671\n",
       "4    10.396363\n",
       "1     9.286425\n",
       "5     8.742406\n",
       "8     8.692910\n",
       "7     8.338991\n",
       "0     7.038077\n",
       "Name: proportion, dtype: float64"
      ]
     },
     "execution_count": 21,
     "metadata": {},
     "output_type": "execute_result"
    }
   ],
   "source": [
    "cdf['gesture_label'].value_counts(normalize=True)*100"
   ]
  },
  {
   "cell_type": "code",
   "execution_count": null,
   "id": "285157da-4dc3-47fb-a212-e80924718027",
   "metadata": {},
   "outputs": [],
   "source": [
    "plt.figure(figsize=(2,2))\n",
    "plt.hist(combined_df['correct_label']);"
   ]
  },
  {
   "cell_type": "code",
   "execution_count": null,
   "id": "9b993051-5582-4bdb-83a2-6a7777b1978d",
   "metadata": {},
   "outputs": [],
   "source": [
    "sns"
   ]
  },
  {
   "cell_type": "code",
   "execution_count": null,
   "id": "6c5973a5-7b08-4962-9018-eb7167460324",
   "metadata": {},
   "outputs": [],
   "source": [
    "sns.swarmplot(data=cdf, x='gesture_label', y='position', hue='correct_label')"
   ]
  }
 ],
 "metadata": {
  "kernelspec": {
   "display_name": "Python 3 (ipykernel)",
   "language": "python",
   "name": "python3"
  },
  "language_info": {
   "codemirror_mode": {
    "name": "ipython",
    "version": 3
   },
   "file_extension": ".py",
   "mimetype": "text/x-python",
   "name": "python",
   "nbconvert_exporter": "python",
   "pygments_lexer": "ipython3",
   "version": "3.13.5"
  }
 },
 "nbformat": 4,
 "nbformat_minor": 5
}
